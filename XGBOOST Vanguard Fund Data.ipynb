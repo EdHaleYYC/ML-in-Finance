{
 "cells": [
  {
   "cell_type": "code",
   "execution_count": 75,
   "metadata": {},
   "outputs": [],
   "source": [
    "import pandas as pd\n",
    "import numpy as np\n",
    "from pandas.tseries.offsets import MonthEnd\n",
    "from pandas.tseries.offsets import MonthBegin\n",
    "from pandas.tseries.offsets import QuarterEnd\n",
    "from pandas.tseries.offsets import QuarterBegin\n",
    "from pandas.tseries.offsets import YearEnd\n",
    "from pandas.tseries.offsets import YearBegin\n",
    "from sklearn.model_selection import train_test_split\n",
    "from sklearn.model_selection import cross_val_score\n",
    "from xgboost import XGBRegressor\n",
    "from sklearn.preprocessing import StandardScaler\n",
    "from sklearn.preprocessing import MinMaxScaler\n",
    "from sklearn.decomposition import PCA"
   ]
  },
  {
   "cell_type": "code",
   "execution_count": 3,
   "metadata": {},
   "outputs": [],
   "source": [
    "df = pd.read_csv('VTI - 2013 to 2018 - practice dataset.csv', parse_dates=['Date'])"
   ]
  },
  {
   "cell_type": "code",
   "execution_count": 4,
   "metadata": {},
   "outputs": [
    {
     "name": "stdout",
     "output_type": "stream",
     "text": [
      "<class 'pandas.core.frame.DataFrame'>\n",
      "RangeIndex: 1508 entries, 0 to 1507\n",
      "Data columns (total 7 columns):\n",
      " #   Column     Non-Null Count  Dtype         \n",
      "---  ------     --------------  -----         \n",
      " 0   Date       1508 non-null   datetime64[ns]\n",
      " 1   Open       1508 non-null   float64       \n",
      " 2   High       1508 non-null   float64       \n",
      " 3   Low        1508 non-null   float64       \n",
      " 4   Close      1508 non-null   float64       \n",
      " 5   Adj Close  1508 non-null   float64       \n",
      " 6   Volume     1508 non-null   int64         \n",
      "dtypes: datetime64[ns](1), float64(5), int64(1)\n",
      "memory usage: 82.6 KB\n"
     ]
    }
   ],
   "source": [
    "df.info()"
   ]
  },
  {
   "cell_type": "code",
   "execution_count": 5,
   "metadata": {},
   "outputs": [
    {
     "data": {
      "text/plain": [
       "1507   2018-12-27\n",
       "1506   2018-12-26\n",
       "1505   2018-12-24\n",
       "1504   2018-12-21\n",
       "1503   2018-12-20\n",
       "          ...    \n",
       "4      2013-01-08\n",
       "3      2013-01-07\n",
       "2      2013-01-04\n",
       "1      2013-01-03\n",
       "0      2013-01-02\n",
       "Name: Date, Length: 1508, dtype: datetime64[ns]"
      ]
     },
     "execution_count": 5,
     "metadata": {},
     "output_type": "execute_result"
    }
   ],
   "source": [
    "df['Date'].sort_values(ascending=False)"
   ]
  },
  {
   "cell_type": "code",
   "execution_count": 6,
   "metadata": {},
   "outputs": [
    {
     "data": {
      "text/html": [
       "<div>\n",
       "<style scoped>\n",
       "    .dataframe tbody tr th:only-of-type {\n",
       "        vertical-align: middle;\n",
       "    }\n",
       "\n",
       "    .dataframe tbody tr th {\n",
       "        vertical-align: top;\n",
       "    }\n",
       "\n",
       "    .dataframe thead th {\n",
       "        text-align: right;\n",
       "    }\n",
       "</style>\n",
       "<table border=\"1\" class=\"dataframe\">\n",
       "  <thead>\n",
       "    <tr style=\"text-align: right;\">\n",
       "      <th></th>\n",
       "      <th>Open</th>\n",
       "      <th>High</th>\n",
       "      <th>Low</th>\n",
       "      <th>Close</th>\n",
       "      <th>Adj Close</th>\n",
       "      <th>Volume</th>\n",
       "    </tr>\n",
       "  </thead>\n",
       "  <tbody>\n",
       "    <tr>\n",
       "      <th>count</th>\n",
       "      <td>1508.000000</td>\n",
       "      <td>1508.000000</td>\n",
       "      <td>1508.000000</td>\n",
       "      <td>1508.000000</td>\n",
       "      <td>1508.000000</td>\n",
       "      <td>1.508000e+03</td>\n",
       "    </tr>\n",
       "    <tr>\n",
       "      <th>mean</th>\n",
       "      <td>110.972865</td>\n",
       "      <td>111.424529</td>\n",
       "      <td>110.415504</td>\n",
       "      <td>110.956585</td>\n",
       "      <td>99.723218</td>\n",
       "      <td>2.673256e+06</td>\n",
       "    </tr>\n",
       "    <tr>\n",
       "      <th>std</th>\n",
       "      <td>18.765803</td>\n",
       "      <td>18.829856</td>\n",
       "      <td>18.672404</td>\n",
       "      <td>18.736166</td>\n",
       "      <td>20.002527</td>\n",
       "      <td>1.608571e+06</td>\n",
       "    </tr>\n",
       "    <tr>\n",
       "      <th>min</th>\n",
       "      <td>74.529999</td>\n",
       "      <td>75.150002</td>\n",
       "      <td>74.500000</td>\n",
       "      <td>75.010002</td>\n",
       "      <td>63.432388</td>\n",
       "      <td>5.524000e+05</td>\n",
       "    </tr>\n",
       "    <tr>\n",
       "      <th>25%</th>\n",
       "      <td>98.232498</td>\n",
       "      <td>98.614998</td>\n",
       "      <td>97.492500</td>\n",
       "      <td>98.117503</td>\n",
       "      <td>86.169901</td>\n",
       "      <td>1.741050e+06</td>\n",
       "    </tr>\n",
       "    <tr>\n",
       "      <th>50%</th>\n",
       "      <td>107.419998</td>\n",
       "      <td>107.844997</td>\n",
       "      <td>106.944999</td>\n",
       "      <td>107.409999</td>\n",
       "      <td>95.556641</td>\n",
       "      <td>2.262750e+06</td>\n",
       "    </tr>\n",
       "    <tr>\n",
       "      <th>75%</th>\n",
       "      <td>124.982502</td>\n",
       "      <td>125.364999</td>\n",
       "      <td>124.564999</td>\n",
       "      <td>125.042502</td>\n",
       "      <td>115.011828</td>\n",
       "      <td>3.077175e+06</td>\n",
       "    </tr>\n",
       "    <tr>\n",
       "      <th>max</th>\n",
       "      <td>151.820007</td>\n",
       "      <td>151.839996</td>\n",
       "      <td>151.050003</td>\n",
       "      <td>151.309998</td>\n",
       "      <td>141.990128</td>\n",
       "      <td>1.813700e+07</td>\n",
       "    </tr>\n",
       "  </tbody>\n",
       "</table>\n",
       "</div>"
      ],
      "text/plain": [
       "              Open         High          Low        Close    Adj Close  \\\n",
       "count  1508.000000  1508.000000  1508.000000  1508.000000  1508.000000   \n",
       "mean    110.972865   111.424529   110.415504   110.956585    99.723218   \n",
       "std      18.765803    18.829856    18.672404    18.736166    20.002527   \n",
       "min      74.529999    75.150002    74.500000    75.010002    63.432388   \n",
       "25%      98.232498    98.614998    97.492500    98.117503    86.169901   \n",
       "50%     107.419998   107.844997   106.944999   107.409999    95.556641   \n",
       "75%     124.982502   125.364999   124.564999   125.042502   115.011828   \n",
       "max     151.820007   151.839996   151.050003   151.309998   141.990128   \n",
       "\n",
       "             Volume  \n",
       "count  1.508000e+03  \n",
       "mean   2.673256e+06  \n",
       "std    1.608571e+06  \n",
       "min    5.524000e+05  \n",
       "25%    1.741050e+06  \n",
       "50%    2.262750e+06  \n",
       "75%    3.077175e+06  \n",
       "max    1.813700e+07  "
      ]
     },
     "execution_count": 6,
     "metadata": {},
     "output_type": "execute_result"
    }
   ],
   "source": [
    "df.describe()"
   ]
  },
  {
   "cell_type": "code",
   "execution_count": 7,
   "metadata": {},
   "outputs": [],
   "source": [
    "from matplotlib import pyplot as plt\n",
    "import seaborn as sns\n",
    "import datetime"
   ]
  },
  {
   "cell_type": "code",
   "execution_count": 8,
   "metadata": {},
   "outputs": [],
   "source": [
    "df['Date'] = pd.to_datetime(df['Date'])"
   ]
  },
  {
   "cell_type": "code",
   "execution_count": 9,
   "metadata": {},
   "outputs": [
    {
     "data": {
      "text/html": [
       "<div>\n",
       "<style scoped>\n",
       "    .dataframe tbody tr th:only-of-type {\n",
       "        vertical-align: middle;\n",
       "    }\n",
       "\n",
       "    .dataframe tbody tr th {\n",
       "        vertical-align: top;\n",
       "    }\n",
       "\n",
       "    .dataframe thead th {\n",
       "        text-align: right;\n",
       "    }\n",
       "</style>\n",
       "<table border=\"1\" class=\"dataframe\">\n",
       "  <thead>\n",
       "    <tr style=\"text-align: right;\">\n",
       "      <th></th>\n",
       "      <th>Date</th>\n",
       "      <th>Open</th>\n",
       "      <th>High</th>\n",
       "      <th>Low</th>\n",
       "      <th>Close</th>\n",
       "      <th>Adj Close</th>\n",
       "      <th>Volume</th>\n",
       "    </tr>\n",
       "  </thead>\n",
       "  <tbody>\n",
       "    <tr>\n",
       "      <th>0</th>\n",
       "      <td>2013-01-02</td>\n",
       "      <td>74.529999</td>\n",
       "      <td>75.150002</td>\n",
       "      <td>74.500000</td>\n",
       "      <td>75.139999</td>\n",
       "      <td>63.542343</td>\n",
       "      <td>5037200</td>\n",
       "    </tr>\n",
       "    <tr>\n",
       "      <th>1</th>\n",
       "      <td>2013-01-03</td>\n",
       "      <td>75.120003</td>\n",
       "      <td>75.370003</td>\n",
       "      <td>74.839996</td>\n",
       "      <td>75.029999</td>\n",
       "      <td>63.449295</td>\n",
       "      <td>2634600</td>\n",
       "    </tr>\n",
       "  </tbody>\n",
       "</table>\n",
       "</div>"
      ],
      "text/plain": [
       "        Date       Open       High        Low      Close  Adj Close   Volume\n",
       "0 2013-01-02  74.529999  75.150002  74.500000  75.139999  63.542343  5037200\n",
       "1 2013-01-03  75.120003  75.370003  74.839996  75.029999  63.449295  2634600"
      ]
     },
     "execution_count": 9,
     "metadata": {},
     "output_type": "execute_result"
    }
   ],
   "source": [
    "df.head(2)"
   ]
  },
  {
   "cell_type": "code",
   "execution_count": 10,
   "metadata": {},
   "outputs": [],
   "source": [
    "#Building the following features:\n",
    "    # year\n",
    "    # month\n",
    "    # week\n",
    "    # dayofmonth\n",
    "    # dayofweek\n",
    "    # dayofyear\n",
    "    # is_month_end\n",
    "    # is_month_start\n",
    "    # is_quarter_end\n",
    "    # is_quarter_start\n",
    "    # is_year_end\n",
    "    # is_year_start"
   ]
  },
  {
   "cell_type": "code",
   "execution_count": 11,
   "metadata": {},
   "outputs": [],
   "source": [
    "df['Year'] = df['Date'].dt.year"
   ]
  },
  {
   "cell_type": "code",
   "execution_count": 12,
   "metadata": {},
   "outputs": [],
   "source": [
    "df['Month'] = df['Date'].dt.month"
   ]
  },
  {
   "cell_type": "code",
   "execution_count": 13,
   "metadata": {},
   "outputs": [],
   "source": [
    "df['Week'] = df['Date'].dt.isocalendar().week"
   ]
  },
  {
   "cell_type": "code",
   "execution_count": 14,
   "metadata": {},
   "outputs": [],
   "source": [
    "df['Day_Month'] = df['Date'].dt.days_in_month"
   ]
  },
  {
   "cell_type": "code",
   "execution_count": 15,
   "metadata": {},
   "outputs": [],
   "source": [
    "df['Weekday'] = df['Date'].dt.day_of_week"
   ]
  },
  {
   "cell_type": "code",
   "execution_count": 16,
   "metadata": {},
   "outputs": [],
   "source": [
    "df['Day_Year'] = df['Date'].dt.day_of_year"
   ]
  },
  {
   "cell_type": "code",
   "execution_count": 17,
   "metadata": {},
   "outputs": [],
   "source": [
    "df['Month_End'] = df['Date'] + MonthEnd()"
   ]
  },
  {
   "cell_type": "code",
   "execution_count": 18,
   "metadata": {},
   "outputs": [],
   "source": [
    "df['Month_Start'] = df['Date'] + MonthBegin()"
   ]
  },
  {
   "cell_type": "code",
   "execution_count": 19,
   "metadata": {},
   "outputs": [],
   "source": [
    "df['Quarter_end'] = df['Date'] + QuarterEnd()"
   ]
  },
  {
   "cell_type": "code",
   "execution_count": 20,
   "metadata": {},
   "outputs": [],
   "source": [
    "df['Quarter_Start'] = df['Date'] + QuarterBegin()"
   ]
  },
  {
   "cell_type": "code",
   "execution_count": 21,
   "metadata": {},
   "outputs": [],
   "source": [
    "df['Year_end'] = df['Date'] + YearEnd()"
   ]
  },
  {
   "cell_type": "code",
   "execution_count": 22,
   "metadata": {},
   "outputs": [],
   "source": [
    "df['Year_Start'] = df['Date'] + YearBegin()"
   ]
  },
  {
   "cell_type": "code",
   "execution_count": 23,
   "metadata": {},
   "outputs": [
    {
     "data": {
      "text/html": [
       "<div>\n",
       "<style scoped>\n",
       "    .dataframe tbody tr th:only-of-type {\n",
       "        vertical-align: middle;\n",
       "    }\n",
       "\n",
       "    .dataframe tbody tr th {\n",
       "        vertical-align: top;\n",
       "    }\n",
       "\n",
       "    .dataframe thead th {\n",
       "        text-align: right;\n",
       "    }\n",
       "</style>\n",
       "<table border=\"1\" class=\"dataframe\">\n",
       "  <thead>\n",
       "    <tr style=\"text-align: right;\">\n",
       "      <th></th>\n",
       "      <th>Date</th>\n",
       "      <th>Open</th>\n",
       "      <th>High</th>\n",
       "      <th>Low</th>\n",
       "      <th>Close</th>\n",
       "      <th>Adj Close</th>\n",
       "      <th>Volume</th>\n",
       "      <th>Year</th>\n",
       "      <th>Month</th>\n",
       "      <th>Week</th>\n",
       "      <th>Day_Month</th>\n",
       "      <th>Weekday</th>\n",
       "      <th>Day_Year</th>\n",
       "      <th>Month_End</th>\n",
       "      <th>Month_Start</th>\n",
       "      <th>Quarter_end</th>\n",
       "      <th>Quarter_Start</th>\n",
       "      <th>Year_end</th>\n",
       "      <th>Year_Start</th>\n",
       "    </tr>\n",
       "  </thead>\n",
       "  <tbody>\n",
       "    <tr>\n",
       "      <th>0</th>\n",
       "      <td>2013-01-02</td>\n",
       "      <td>74.529999</td>\n",
       "      <td>75.150002</td>\n",
       "      <td>74.500000</td>\n",
       "      <td>75.139999</td>\n",
       "      <td>63.542343</td>\n",
       "      <td>5037200</td>\n",
       "      <td>2013</td>\n",
       "      <td>1</td>\n",
       "      <td>1</td>\n",
       "      <td>31</td>\n",
       "      <td>2</td>\n",
       "      <td>2</td>\n",
       "      <td>2013-01-31</td>\n",
       "      <td>2013-02-01</td>\n",
       "      <td>2013-03-31</td>\n",
       "      <td>2013-03-01</td>\n",
       "      <td>2013-12-31</td>\n",
       "      <td>2014-01-01</td>\n",
       "    </tr>\n",
       "    <tr>\n",
       "      <th>1</th>\n",
       "      <td>2013-01-03</td>\n",
       "      <td>75.120003</td>\n",
       "      <td>75.370003</td>\n",
       "      <td>74.839996</td>\n",
       "      <td>75.029999</td>\n",
       "      <td>63.449295</td>\n",
       "      <td>2634600</td>\n",
       "      <td>2013</td>\n",
       "      <td>1</td>\n",
       "      <td>1</td>\n",
       "      <td>31</td>\n",
       "      <td>3</td>\n",
       "      <td>3</td>\n",
       "      <td>2013-01-31</td>\n",
       "      <td>2013-02-01</td>\n",
       "      <td>2013-03-31</td>\n",
       "      <td>2013-03-01</td>\n",
       "      <td>2013-12-31</td>\n",
       "      <td>2014-01-01</td>\n",
       "    </tr>\n",
       "  </tbody>\n",
       "</table>\n",
       "</div>"
      ],
      "text/plain": [
       "        Date       Open       High        Low      Close  Adj Close   Volume  \\\n",
       "0 2013-01-02  74.529999  75.150002  74.500000  75.139999  63.542343  5037200   \n",
       "1 2013-01-03  75.120003  75.370003  74.839996  75.029999  63.449295  2634600   \n",
       "\n",
       "   Year  Month  Week  Day_Month  Weekday  Day_Year  Month_End Month_Start  \\\n",
       "0  2013      1     1         31        2         2 2013-01-31  2013-02-01   \n",
       "1  2013      1     1         31        3         3 2013-01-31  2013-02-01   \n",
       "\n",
       "  Quarter_end Quarter_Start   Year_end Year_Start  \n",
       "0  2013-03-31    2013-03-01 2013-12-31 2014-01-01  \n",
       "1  2013-03-31    2013-03-01 2013-12-31 2014-01-01  "
      ]
     },
     "execution_count": 23,
     "metadata": {},
     "output_type": "execute_result"
    }
   ],
   "source": [
    "df.head(2)"
   ]
  },
  {
   "cell_type": "code",
   "execution_count": null,
   "metadata": {},
   "outputs": [],
   "source": [
    "#Exploratory Data Analysis (EDA)"
   ]
  },
  {
   "cell_type": "code",
   "execution_count": 24,
   "metadata": {},
   "outputs": [
    {
     "data": {
      "text/plain": [
       "<AxesSubplot:>"
      ]
     },
     "execution_count": 24,
     "metadata": {},
     "output_type": "execute_result"
    },
    {
     "data": {
      "image/png": "[encoded data removed]",
      "text/plain": [
       "<Figure size 864x648 with 2 Axes>"
      ]
     },
     "metadata": {
      "needs_background": "light"
     },
     "output_type": "display_data"
    }
   ],
   "source": [
    "corrmat = df.corr()\n",
    "f, ax = plt.subplots(figsize=(12,9))\n",
    "sns.heatmap(corrmat, vmax=.8, square=True)"
   ]
  },
  {
   "cell_type": "code",
   "execution_count": 25,
   "metadata": {},
   "outputs": [
    {
     "data": {
      "text/plain": [
       "Date             datetime64[ns]\n",
       "Open                    float64\n",
       "High                    float64\n",
       "Low                     float64\n",
       "Close                   float64\n",
       "Adj Close               float64\n",
       "Volume                    int64\n",
       "Year                      int64\n",
       "Month                     int64\n",
       "Week                     UInt32\n",
       "Day_Month                 int64\n",
       "Weekday                   int64\n",
       "Day_Year                  int64\n",
       "Month_End        datetime64[ns]\n",
       "Month_Start      datetime64[ns]\n",
       "Quarter_end      datetime64[ns]\n",
       "Quarter_Start    datetime64[ns]\n",
       "Year_end         datetime64[ns]\n",
       "Year_Start       datetime64[ns]\n",
       "dtype: object"
      ]
     },
     "execution_count": 25,
     "metadata": {},
     "output_type": "execute_result"
    }
   ],
   "source": [
    "df.dtypes"
   ]
  },
  {
   "cell_type": "code",
   "execution_count": null,
   "metadata": {},
   "outputs": [],
   "source": []
  },
  {
   "cell_type": "code",
   "execution_count": 26,
   "metadata": {},
   "outputs": [
    {
     "data": {
      "text/plain": [
       "(1508, 19)"
      ]
     },
     "execution_count": 26,
     "metadata": {},
     "output_type": "execute_result"
    }
   ],
   "source": [
    "df.shape"
   ]
  },
  {
   "cell_type": "code",
   "execution_count": 27,
   "metadata": {},
   "outputs": [
    {
     "data": {
      "text/plain": [
       "Date             datetime64[ns]\n",
       "Open                    float64\n",
       "High                    float64\n",
       "Low                     float64\n",
       "Close                   float64\n",
       "Adj Close               float64\n",
       "Volume                    int64\n",
       "Year                      int64\n",
       "Month                     int64\n",
       "Week                     UInt32\n",
       "Day_Month                 int64\n",
       "Weekday                   int64\n",
       "Day_Year                  int64\n",
       "Month_End        datetime64[ns]\n",
       "Month_Start      datetime64[ns]\n",
       "Quarter_end      datetime64[ns]\n",
       "Quarter_Start    datetime64[ns]\n",
       "Year_end         datetime64[ns]\n",
       "Year_Start       datetime64[ns]\n",
       "dtype: object"
      ]
     },
     "execution_count": 27,
     "metadata": {},
     "output_type": "execute_result"
    }
   ],
   "source": [
    "df.dtypes"
   ]
  },
  {
   "cell_type": "code",
   "execution_count": 28,
   "metadata": {},
   "outputs": [
    {
     "data": {
      "text/plain": [
       "count    1508.000000\n",
       "mean      110.956585\n",
       "std        18.736166\n",
       "min        75.010002\n",
       "25%        98.117503\n",
       "50%       107.409999\n",
       "75%       125.042502\n",
       "max       151.309998\n",
       "Name: Close, dtype: float64"
      ]
     },
     "execution_count": 28,
     "metadata": {},
     "output_type": "execute_result"
    }
   ],
   "source": [
    "df['Close'].describe()"
   ]
  },
  {
   "cell_type": "code",
   "execution_count": 29,
   "metadata": {},
   "outputs": [
    {
     "name": "stderr",
     "output_type": "stream",
     "text": [
      "c:\\Users\\Eduardo\\anaconda3\\lib\\site-packages\\seaborn\\distributions.py:2619: FutureWarning: `distplot` is a deprecated function and will be removed in a future version. Please adapt your code to use either `displot` (a figure-level function with similar flexibility) or `histplot` (an axes-level function for histograms).\n",
      "  warnings.warn(msg, FutureWarning)\n"
     ]
    },
    {
     "data": {
      "text/plain": [
       "<AxesSubplot:xlabel='Close', ylabel='Density'>"
      ]
     },
     "execution_count": 29,
     "metadata": {},
     "output_type": "execute_result"
    },
    {
     "data": {
      "image/png": "[encoded data removed]",
      "text/plain": [
       "<Figure size 432x288 with 1 Axes>"
      ]
     },
     "metadata": {
      "needs_background": "light"
     },
     "output_type": "display_data"
    }
   ],
   "source": [
    "sns.distplot(df['Close'])"
   ]
  },
  {
   "cell_type": "code",
   "execution_count": 30,
   "metadata": {},
   "outputs": [
    {
     "data": {
      "text/plain": [
       "<AxesSubplot:xlabel='Month', ylabel='Close'>"
      ]
     },
     "execution_count": 30,
     "metadata": {},
     "output_type": "execute_result"
    },
    {
     "data": {
      "image/png": "[encoded data removed]",
      "text/plain": [
       "<Figure size 432x288 with 1 Axes>"
      ]
     },
     "metadata": {
      "needs_background": "light"
     },
     "output_type": "display_data"
    }
   ],
   "source": [
    "var = 'Month'\n",
    "data = df[['Close',var]]\n",
    "data.plot.scatter(x=var,y='Close', ylim=(60,160))\n"
   ]
  },
  {
   "cell_type": "code",
   "execution_count": 31,
   "metadata": {},
   "outputs": [
    {
     "data": {
      "text/plain": [
       "<AxesSubplot:xlabel='Close', ylabel='Month'>"
      ]
     },
     "execution_count": 31,
     "metadata": {},
     "output_type": "execute_result"
    },
    {
     "data": {
      "image/png": "[encoded data removed]",
      "text/plain": [
       "<Figure size 432x288 with 1 Axes>"
      ]
     },
     "metadata": {
      "needs_background": "light"
     },
     "output_type": "display_data"
    }
   ],
   "source": [
    "var = 'Close'\n",
    "data = df[['Month',var]]\n",
    "data.plot.scatter(x=var,y='Month', ylim=(0,12))"
   ]
  },
  {
   "cell_type": "code",
   "execution_count": 32,
   "metadata": {},
   "outputs": [
    {
     "data": {
      "text/plain": [
       "<AxesSubplot:xlabel='Weekday', ylabel='Close'>"
      ]
     },
     "execution_count": 32,
     "metadata": {},
     "output_type": "execute_result"
    },
    {
     "data": {
      "image/png": "[encoded data removed]",
      "text/plain": [
       "<Figure size 432x288 with 1 Axes>"
      ]
     },
     "metadata": {
      "needs_background": "light"
     },
     "output_type": "display_data"
    }
   ],
   "source": [
    "var = 'Weekday'\n",
    "data = df[['Close',var]]\n",
    "data.plot.scatter(x=var,y='Close', ylim=(60,160))"
   ]
  },
  {
   "cell_type": "code",
   "execution_count": 33,
   "metadata": {},
   "outputs": [
    {
     "data": {
      "text/plain": [
       "<AxesSubplot:>"
      ]
     },
     "execution_count": 33,
     "metadata": {},
     "output_type": "execute_result"
    },
    {
     "data": {
      "image/png": "[encoded data removed]",
      "text/plain": [
       "<Figure size 864x648 with 2 Axes>"
      ]
     },
     "metadata": {
      "needs_background": "light"
     },
     "output_type": "display_data"
    }
   ],
   "source": [
    "corrmat = df.corr()\n",
    "f, ax = plt.subplots(figsize=(12,9))\n",
    "sns.heatmap(corrmat, vmax=.8, square=True)"
   ]
  },
  {
   "cell_type": "code",
   "execution_count": 34,
   "metadata": {},
   "outputs": [
    {
     "data": {
      "text/plain": [
       "<AxesSubplot:xlabel='Date', ylabel='Close'>"
      ]
     },
     "execution_count": 34,
     "metadata": {},
     "output_type": "execute_result"
    },
    {
     "data": {
      "image/png": "[encoded data removed]",
      "text/plain": [
       "<Figure size 432x288 with 1 Axes>"
      ]
     },
     "metadata": {
      "needs_background": "light"
     },
     "output_type": "display_data"
    }
   ],
   "source": [
    "var = 'Date'\n",
    "data = df[['Close',var]]\n",
    "data.plot.scatter(x=var,y='Close')"
   ]
  },
  {
   "cell_type": "code",
   "execution_count": 35,
   "metadata": {},
   "outputs": [
    {
     "data": {
      "text/plain": [
       "<AxesSubplot:xlabel='Date', ylabel='Open'>"
      ]
     },
     "execution_count": 35,
     "metadata": {},
     "output_type": "execute_result"
    },
    {
     "data": {
      "image/png": "[encoded data removed]",
      "text/plain": [
       "<Figure size 432x288 with 1 Axes>"
      ]
     },
     "metadata": {
      "needs_background": "light"
     },
     "output_type": "display_data"
    }
   ],
   "source": [
    "var = 'Date'\n",
    "data = df[['Open',var]]\n",
    "data.plot.scatter(x=var,y='Open')"
   ]
  },
  {
   "cell_type": "code",
   "execution_count": null,
   "metadata": {},
   "outputs": [],
   "source": [
    "#XGBoost Setup and model"
   ]
  },
  {
   "cell_type": "code",
   "execution_count": 36,
   "metadata": {},
   "outputs": [],
   "source": [
    "X = df[['High', 'Low', 'Volume','Month']]\n",
    "y = df[['Close']]"
   ]
  },
  {
   "cell_type": "code",
   "execution_count": 37,
   "metadata": {},
   "outputs": [
    {
     "data": {
      "text/plain": [
       "(1508, 1)"
      ]
     },
     "execution_count": 37,
     "metadata": {},
     "output_type": "execute_result"
    }
   ],
   "source": [
    "y.shape"
   ]
  },
  {
   "cell_type": "code",
   "execution_count": 38,
   "metadata": {},
   "outputs": [],
   "source": [
    "scaler = MinMaxScaler()\n",
    "df_scaled_X = scaler.fit_transform(X)\n",
    "df_scaled_y = scaler.fit_transform(y)"
   ]
  },
  {
   "cell_type": "code",
   "execution_count": 39,
   "metadata": {},
   "outputs": [],
   "source": [
    "X_train, X_test, y_train, y_test = train_test_split(df_scaled_X, df_scaled_y, test_size=0.2, random_state=0)"
   ]
  },
  {
   "cell_type": "code",
   "execution_count": 40,
   "metadata": {},
   "outputs": [
    {
     "name": "stdout",
     "output_type": "stream",
     "text": [
      "[0]\tvalidation_0-mae:0.20530\tvalidation_1-mae:0.20651\n",
      "[1]\tvalidation_0-mae:0.20328\tvalidation_1-mae:0.20448\n",
      "[2]\tvalidation_0-mae:0.20128\tvalidation_1-mae:0.20247\n",
      "[3]\tvalidation_0-mae:0.19929\tvalidation_1-mae:0.20048\n",
      "[4]\tvalidation_0-mae:0.19733\tvalidation_1-mae:0.19851\n",
      "[5]\tvalidation_0-mae:0.19538\tvalidation_1-mae:0.19658\n",
      "[6]\tvalidation_0-mae:0.19345\tvalidation_1-mae:0.19465\n",
      "[7]\tvalidation_0-mae:0.19154\tvalidation_1-mae:0.19274\n",
      "[8]\tvalidation_0-mae:0.18965\tvalidation_1-mae:0.19086\n",
      "[9]\tvalidation_0-mae:0.18778\tvalidation_1-mae:0.18900\n",
      "[10]\tvalidation_0-mae:0.18593\tvalidation_1-mae:0.18714\n",
      "[11]\tvalidation_0-mae:0.18410\tvalidation_1-mae:0.18530\n",
      "[12]\tvalidation_0-mae:0.18228\tvalidation_1-mae:0.18349\n",
      "[13]\tvalidation_0-mae:0.18049\tvalidation_1-mae:0.18169\n",
      "[14]\tvalidation_0-mae:0.17871\tvalidation_1-mae:0.17991\n",
      "[15]\tvalidation_0-mae:0.17695\tvalidation_1-mae:0.17813\n",
      "[16]\tvalidation_0-mae:0.17521\tvalidation_1-mae:0.17638\n",
      "[17]\tvalidation_0-mae:0.17348\tvalidation_1-mae:0.17465\n",
      "[18]\tvalidation_0-mae:0.17177\tvalidation_1-mae:0.17293\n",
      "[19]\tvalidation_0-mae:0.17008\tvalidation_1-mae:0.17123\n",
      "[20]\tvalidation_0-mae:0.16840\tvalidation_1-mae:0.16955\n",
      "[21]\tvalidation_0-mae:0.16675\tvalidation_1-mae:0.16788\n",
      "[22]\tvalidation_0-mae:0.16511\tvalidation_1-mae:0.16624\n",
      "[23]\tvalidation_0-mae:0.16348\tvalidation_1-mae:0.16460\n",
      "[24]\tvalidation_0-mae:0.16187\tvalidation_1-mae:0.16299\n",
      "[25]\tvalidation_0-mae:0.16028\tvalidation_1-mae:0.16139\n",
      "[26]\tvalidation_0-mae:0.15870\tvalidation_1-mae:0.15981\n",
      "[27]\tvalidation_0-mae:0.15714\tvalidation_1-mae:0.15824\n",
      "[28]\tvalidation_0-mae:0.15559\tvalidation_1-mae:0.15670\n",
      "[29]\tvalidation_0-mae:0.15406\tvalidation_1-mae:0.15516\n",
      "[30]\tvalidation_0-mae:0.15254\tvalidation_1-mae:0.15364\n",
      "[31]\tvalidation_0-mae:0.15104\tvalidation_1-mae:0.15214\n",
      "[32]\tvalidation_0-mae:0.14955\tvalidation_1-mae:0.15065\n",
      "[33]\tvalidation_0-mae:0.14808\tvalidation_1-mae:0.14917\n",
      "[34]\tvalidation_0-mae:0.14662\tvalidation_1-mae:0.14771\n",
      "[35]\tvalidation_0-mae:0.14518\tvalidation_1-mae:0.14627\n",
      "[36]\tvalidation_0-mae:0.14375\tvalidation_1-mae:0.14483\n",
      "[37]\tvalidation_0-mae:0.14233\tvalidation_1-mae:0.14342\n",
      "[38]\tvalidation_0-mae:0.14093\tvalidation_1-mae:0.14202\n",
      "[39]\tvalidation_0-mae:0.13955\tvalidation_1-mae:0.14062\n",
      "[40]\tvalidation_0-mae:0.13817\tvalidation_1-mae:0.13924\n",
      "[41]\tvalidation_0-mae:0.13681\tvalidation_1-mae:0.13788\n",
      "[42]\tvalidation_0-mae:0.13547\tvalidation_1-mae:0.13652\n",
      "[43]\tvalidation_0-mae:0.13413\tvalidation_1-mae:0.13518\n",
      "[44]\tvalidation_0-mae:0.13281\tvalidation_1-mae:0.13386\n",
      "[45]\tvalidation_0-mae:0.13151\tvalidation_1-mae:0.13255\n",
      "[46]\tvalidation_0-mae:0.13021\tvalidation_1-mae:0.13126\n",
      "[47]\tvalidation_0-mae:0.12893\tvalidation_1-mae:0.12998\n",
      "[48]\tvalidation_0-mae:0.12766\tvalidation_1-mae:0.12871\n",
      "[49]\tvalidation_0-mae:0.12641\tvalidation_1-mae:0.12744\n",
      "[50]\tvalidation_0-mae:0.12516\tvalidation_1-mae:0.12620\n",
      "[51]\tvalidation_0-mae:0.12393\tvalidation_1-mae:0.12496\n",
      "[52]\tvalidation_0-mae:0.12271\tvalidation_1-mae:0.12374\n",
      "[53]\tvalidation_0-mae:0.12150\tvalidation_1-mae:0.12253\n",
      "[54]\tvalidation_0-mae:0.12031\tvalidation_1-mae:0.12133\n",
      "[55]\tvalidation_0-mae:0.11912\tvalidation_1-mae:0.12014\n",
      "[56]\tvalidation_0-mae:0.11795\tvalidation_1-mae:0.11896\n",
      "[57]\tvalidation_0-mae:0.11679\tvalidation_1-mae:0.11780\n",
      "[58]\tvalidation_0-mae:0.11564\tvalidation_1-mae:0.11665\n",
      "[59]\tvalidation_0-mae:0.11451\tvalidation_1-mae:0.11552\n",
      "[60]\tvalidation_0-mae:0.11338\tvalidation_1-mae:0.11438\n",
      "[61]\tvalidation_0-mae:0.11226\tvalidation_1-mae:0.11327\n",
      "[62]\tvalidation_0-mae:0.11116\tvalidation_1-mae:0.11217\n",
      "[63]\tvalidation_0-mae:0.11007\tvalidation_1-mae:0.11107\n",
      "[64]\tvalidation_0-mae:0.10898\tvalidation_1-mae:0.10999\n",
      "[65]\tvalidation_0-mae:0.10791\tvalidation_1-mae:0.10891\n",
      "[66]\tvalidation_0-mae:0.10685\tvalidation_1-mae:0.10784\n",
      "[67]\tvalidation_0-mae:0.10580\tvalidation_1-mae:0.10678\n",
      "[68]\tvalidation_0-mae:0.10476\tvalidation_1-mae:0.10574\n",
      "[69]\tvalidation_0-mae:0.10373\tvalidation_1-mae:0.10471\n",
      "[70]\tvalidation_0-mae:0.10271\tvalidation_1-mae:0.10369\n",
      "[71]\tvalidation_0-mae:0.10170\tvalidation_1-mae:0.10267\n",
      "[72]\tvalidation_0-mae:0.10069\tvalidation_1-mae:0.10167\n"
     ]
    },
    {
     "name": "stderr",
     "output_type": "stream",
     "text": [
      "c:\\Users\\Eduardo\\anaconda3\\lib\\site-packages\\xgboost\\sklearn.py:793: UserWarning: `eval_metric` in `fit` method is deprecated for better compatibility with scikit-learn, use `eval_metric` in constructor or`set_params` instead.\n",
      "  warnings.warn(\n"
     ]
    },
    {
     "name": "stdout",
     "output_type": "stream",
     "text": [
      "[73]\tvalidation_0-mae:0.09970\tvalidation_1-mae:0.10068\n",
      "[74]\tvalidation_0-mae:0.09872\tvalidation_1-mae:0.09970\n",
      "[75]\tvalidation_0-mae:0.09775\tvalidation_1-mae:0.09872\n",
      "[76]\tvalidation_0-mae:0.09679\tvalidation_1-mae:0.09775\n",
      "[77]\tvalidation_0-mae:0.09584\tvalidation_1-mae:0.09681\n",
      "[78]\tvalidation_0-mae:0.09490\tvalidation_1-mae:0.09586\n",
      "[79]\tvalidation_0-mae:0.09396\tvalidation_1-mae:0.09492\n",
      "[80]\tvalidation_0-mae:0.09304\tvalidation_1-mae:0.09399\n",
      "[81]\tvalidation_0-mae:0.09213\tvalidation_1-mae:0.09307\n",
      "[82]\tvalidation_0-mae:0.09122\tvalidation_1-mae:0.09216\n",
      "[83]\tvalidation_0-mae:0.09032\tvalidation_1-mae:0.09126\n",
      "[84]\tvalidation_0-mae:0.08943\tvalidation_1-mae:0.09037\n",
      "[85]\tvalidation_0-mae:0.08855\tvalidation_1-mae:0.08949\n",
      "[86]\tvalidation_0-mae:0.08768\tvalidation_1-mae:0.08861\n",
      "[87]\tvalidation_0-mae:0.08682\tvalidation_1-mae:0.08774\n",
      "[88]\tvalidation_0-mae:0.08597\tvalidation_1-mae:0.08689\n",
      "[89]\tvalidation_0-mae:0.08512\tvalidation_1-mae:0.08604\n",
      "[90]\tvalidation_0-mae:0.08428\tvalidation_1-mae:0.08520\n",
      "[91]\tvalidation_0-mae:0.08346\tvalidation_1-mae:0.08437\n",
      "[92]\tvalidation_0-mae:0.08264\tvalidation_1-mae:0.08355\n",
      "[93]\tvalidation_0-mae:0.08182\tvalidation_1-mae:0.08274\n",
      "[94]\tvalidation_0-mae:0.08102\tvalidation_1-mae:0.08192\n",
      "[95]\tvalidation_0-mae:0.08022\tvalidation_1-mae:0.08112\n",
      "[96]\tvalidation_0-mae:0.07943\tvalidation_1-mae:0.08034\n",
      "[97]\tvalidation_0-mae:0.07865\tvalidation_1-mae:0.07955\n",
      "[98]\tvalidation_0-mae:0.07788\tvalidation_1-mae:0.07877\n",
      "[99]\tvalidation_0-mae:0.07711\tvalidation_1-mae:0.07801\n"
     ]
    },
    {
     "data": {
      "text/plain": [
       "XGBRegressor(base_score=0.5, booster='gbtree', callbacks=None,\n",
       "             colsample_bylevel=1, colsample_bynode=1, colsample_bytree=1,\n",
       "             early_stopping_rounds=None, enable_categorical=False,\n",
       "             eval_metric=None, gamma=0, gpu_id=-1, grow_policy='depthwise',\n",
       "             importance_type=None, interaction_constraints='',\n",
       "             learning_rate=0.01, max_bin=256, max_cat_to_onehot=4,\n",
       "             max_delta_step=0, max_depth=6, max_leaves=0, min_child_weight=1,\n",
       "             missing=nan, monotone_constraints='()', n_estimators=100, n_jobs=0,\n",
       "             num_parallel_tree=1, predictor='auto', random_state=0, reg_alpha=0,\n",
       "             reg_lambda=1, ...)"
      ]
     },
     "execution_count": 40,
     "metadata": {},
     "output_type": "execute_result"
    }
   ],
   "source": [
    "reg = XGBRegressor(n_estimators=100, learning_rate=0.01)\n",
    "reg.fit(X_train, y_train, eval_set=[(X_train,y_train),(X_test,y_test)], eval_metric='mae')"
   ]
  },
  {
   "cell_type": "code",
   "execution_count": 49,
   "metadata": {},
   "outputs": [],
   "source": [
    "predictions = reg.predict(X_test)\n",
    "predictions = scaler.inverse_transform(predictions.reshape(-1,1)).reshape(-1)"
   ]
  },
  {
   "cell_type": "code",
   "execution_count": 50,
   "metadata": {},
   "outputs": [],
   "source": [
    "df['Predictions'] = pd.Series(predictions)\n"
   ]
  },
  {
   "cell_type": "code",
   "execution_count": 51,
   "metadata": {},
   "outputs": [
    {
     "data": {
      "text/plain": [
       "0       102.901932\n",
       "1       118.475029\n",
       "2        91.589493\n",
       "3       108.344582\n",
       "4        91.589493\n",
       "           ...    \n",
       "1503           NaN\n",
       "1504           NaN\n",
       "1505           NaN\n",
       "1506           NaN\n",
       "1507           NaN\n",
       "Name: Predictions, Length: 1508, dtype: float32"
      ]
     },
     "execution_count": 51,
     "metadata": {},
     "output_type": "execute_result"
    }
   ],
   "source": [
    "df['Predictions']"
   ]
  },
  {
   "cell_type": "code",
   "execution_count": 52,
   "metadata": {},
   "outputs": [
    {
     "name": "stdout",
     "output_type": "stream",
     "text": [
      "<class 'pandas.core.frame.DataFrame'>\n",
      "RangeIndex: 1508 entries, 0 to 1507\n",
      "Data columns (total 20 columns):\n",
      " #   Column         Non-Null Count  Dtype         \n",
      "---  ------         --------------  -----         \n",
      " 0   Date           1508 non-null   datetime64[ns]\n",
      " 1   Open           1508 non-null   float64       \n",
      " 2   High           1508 non-null   float64       \n",
      " 3   Low            1508 non-null   float64       \n",
      " 4   Close          1508 non-null   float64       \n",
      " 5   Adj Close      1508 non-null   float64       \n",
      " 6   Volume         1508 non-null   int64         \n",
      " 7   Year           1508 non-null   int64         \n",
      " 8   Month          1508 non-null   int64         \n",
      " 9   Week           1508 non-null   UInt32        \n",
      " 10  Day_Month      1508 non-null   int64         \n",
      " 11  Weekday        1508 non-null   int64         \n",
      " 12  Day_Year       1508 non-null   int64         \n",
      " 13  Month_End      1508 non-null   datetime64[ns]\n",
      " 14  Month_Start    1508 non-null   datetime64[ns]\n",
      " 15  Quarter_end    1508 non-null   datetime64[ns]\n",
      " 16  Quarter_Start  1508 non-null   datetime64[ns]\n",
      " 17  Year_end       1508 non-null   datetime64[ns]\n",
      " 18  Year_Start     1508 non-null   datetime64[ns]\n",
      " 19  Predictions    302 non-null    float32       \n",
      "dtypes: UInt32(1), datetime64[ns](7), float32(1), float64(5), int64(6)\n",
      "memory usage: 225.4 KB\n"
     ]
    }
   ],
   "source": [
    "df.info()"
   ]
  },
  {
   "cell_type": "code",
   "execution_count": 53,
   "metadata": {},
   "outputs": [
    {
     "data": {
      "text/html": [
       "<div>\n",
       "<style scoped>\n",
       "    .dataframe tbody tr th:only-of-type {\n",
       "        vertical-align: middle;\n",
       "    }\n",
       "\n",
       "    .dataframe tbody tr th {\n",
       "        vertical-align: top;\n",
       "    }\n",
       "\n",
       "    .dataframe thead th {\n",
       "        text-align: right;\n",
       "    }\n",
       "</style>\n",
       "<table border=\"1\" class=\"dataframe\">\n",
       "  <thead>\n",
       "    <tr style=\"text-align: right;\">\n",
       "      <th></th>\n",
       "      <th>Date</th>\n",
       "      <th>Open</th>\n",
       "      <th>High</th>\n",
       "      <th>Low</th>\n",
       "      <th>Close</th>\n",
       "      <th>Adj Close</th>\n",
       "      <th>Volume</th>\n",
       "      <th>Year</th>\n",
       "      <th>Month</th>\n",
       "      <th>Week</th>\n",
       "      <th>Day_Month</th>\n",
       "      <th>Weekday</th>\n",
       "      <th>Day_Year</th>\n",
       "      <th>Month_End</th>\n",
       "      <th>Month_Start</th>\n",
       "      <th>Quarter_end</th>\n",
       "      <th>Quarter_Start</th>\n",
       "      <th>Year_end</th>\n",
       "      <th>Year_Start</th>\n",
       "      <th>Predictions</th>\n",
       "    </tr>\n",
       "  </thead>\n",
       "  <tbody>\n",
       "    <tr>\n",
       "      <th>0</th>\n",
       "      <td>2013-01-02</td>\n",
       "      <td>74.529999</td>\n",
       "      <td>75.150002</td>\n",
       "      <td>74.500000</td>\n",
       "      <td>75.139999</td>\n",
       "      <td>63.542343</td>\n",
       "      <td>5037200</td>\n",
       "      <td>2013</td>\n",
       "      <td>1</td>\n",
       "      <td>1</td>\n",
       "      <td>31</td>\n",
       "      <td>2</td>\n",
       "      <td>2</td>\n",
       "      <td>2013-01-31</td>\n",
       "      <td>2013-02-01</td>\n",
       "      <td>2013-03-31</td>\n",
       "      <td>2013-03-01</td>\n",
       "      <td>2013-12-31</td>\n",
       "      <td>2014-01-01</td>\n",
       "      <td>102.901932</td>\n",
       "    </tr>\n",
       "    <tr>\n",
       "      <th>1</th>\n",
       "      <td>2013-01-03</td>\n",
       "      <td>75.120003</td>\n",
       "      <td>75.370003</td>\n",
       "      <td>74.839996</td>\n",
       "      <td>75.029999</td>\n",
       "      <td>63.449295</td>\n",
       "      <td>2634600</td>\n",
       "      <td>2013</td>\n",
       "      <td>1</td>\n",
       "      <td>1</td>\n",
       "      <td>31</td>\n",
       "      <td>3</td>\n",
       "      <td>3</td>\n",
       "      <td>2013-01-31</td>\n",
       "      <td>2013-02-01</td>\n",
       "      <td>2013-03-31</td>\n",
       "      <td>2013-03-01</td>\n",
       "      <td>2013-12-31</td>\n",
       "      <td>2014-01-01</td>\n",
       "      <td>118.475029</td>\n",
       "    </tr>\n",
       "  </tbody>\n",
       "</table>\n",
       "</div>"
      ],
      "text/plain": [
       "        Date       Open       High        Low      Close  Adj Close   Volume  \\\n",
       "0 2013-01-02  74.529999  75.150002  74.500000  75.139999  63.542343  5037200   \n",
       "1 2013-01-03  75.120003  75.370003  74.839996  75.029999  63.449295  2634600   \n",
       "\n",
       "   Year  Month  Week  Day_Month  Weekday  Day_Year  Month_End Month_Start  \\\n",
       "0  2013      1     1         31        2         2 2013-01-31  2013-02-01   \n",
       "1  2013      1     1         31        3         3 2013-01-31  2013-02-01   \n",
       "\n",
       "  Quarter_end Quarter_Start   Year_end Year_Start  Predictions  \n",
       "0  2013-03-31    2013-03-01 2013-12-31 2014-01-01   102.901932  \n",
       "1  2013-03-31    2013-03-01 2013-12-31 2014-01-01   118.475029  "
      ]
     },
     "execution_count": 53,
     "metadata": {},
     "output_type": "execute_result"
    }
   ],
   "source": [
    "df.head(2)"
   ]
  },
  {
   "cell_type": "code",
   "execution_count": null,
   "metadata": {},
   "outputs": [],
   "source": [
    "# Principal Component Analysis (PCA)"
   ]
  },
  {
   "cell_type": "code",
   "execution_count": 64,
   "metadata": {},
   "outputs": [
    {
     "data": {
      "text/html": [
       "<div>\n",
       "<style scoped>\n",
       "    .dataframe tbody tr th:only-of-type {\n",
       "        vertical-align: middle;\n",
       "    }\n",
       "\n",
       "    .dataframe tbody tr th {\n",
       "        vertical-align: top;\n",
       "    }\n",
       "\n",
       "    .dataframe thead th {\n",
       "        text-align: right;\n",
       "    }\n",
       "</style>\n",
       "<table border=\"1\" class=\"dataframe\">\n",
       "  <thead>\n",
       "    <tr style=\"text-align: right;\">\n",
       "      <th></th>\n",
       "      <th>Date</th>\n",
       "      <th>Open</th>\n",
       "      <th>High</th>\n",
       "      <th>Low</th>\n",
       "      <th>Close</th>\n",
       "      <th>Adj Close</th>\n",
       "      <th>Volume</th>\n",
       "      <th>Year</th>\n",
       "      <th>Month</th>\n",
       "      <th>Week</th>\n",
       "      <th>Day_Month</th>\n",
       "      <th>Weekday</th>\n",
       "      <th>Day_Year</th>\n",
       "      <th>Month_End</th>\n",
       "      <th>Month_Start</th>\n",
       "      <th>Quarter_end</th>\n",
       "      <th>Quarter_Start</th>\n",
       "      <th>Year_end</th>\n",
       "      <th>Year_Start</th>\n",
       "      <th>Predictions</th>\n",
       "    </tr>\n",
       "  </thead>\n",
       "  <tbody>\n",
       "    <tr>\n",
       "      <th>0</th>\n",
       "      <td>2013-01-02</td>\n",
       "      <td>74.529999</td>\n",
       "      <td>75.150002</td>\n",
       "      <td>74.500000</td>\n",
       "      <td>75.139999</td>\n",
       "      <td>63.542343</td>\n",
       "      <td>5037200</td>\n",
       "      <td>2013</td>\n",
       "      <td>1</td>\n",
       "      <td>1</td>\n",
       "      <td>31</td>\n",
       "      <td>2</td>\n",
       "      <td>2</td>\n",
       "      <td>2013-01-31</td>\n",
       "      <td>2013-02-01</td>\n",
       "      <td>2013-03-31</td>\n",
       "      <td>2013-03-01</td>\n",
       "      <td>2013-12-31</td>\n",
       "      <td>2014-01-01</td>\n",
       "      <td>102.901932</td>\n",
       "    </tr>\n",
       "    <tr>\n",
       "      <th>1</th>\n",
       "      <td>2013-01-03</td>\n",
       "      <td>75.120003</td>\n",
       "      <td>75.370003</td>\n",
       "      <td>74.839996</td>\n",
       "      <td>75.029999</td>\n",
       "      <td>63.449295</td>\n",
       "      <td>2634600</td>\n",
       "      <td>2013</td>\n",
       "      <td>1</td>\n",
       "      <td>1</td>\n",
       "      <td>31</td>\n",
       "      <td>3</td>\n",
       "      <td>3</td>\n",
       "      <td>2013-01-31</td>\n",
       "      <td>2013-02-01</td>\n",
       "      <td>2013-03-31</td>\n",
       "      <td>2013-03-01</td>\n",
       "      <td>2013-12-31</td>\n",
       "      <td>2014-01-01</td>\n",
       "      <td>118.475029</td>\n",
       "    </tr>\n",
       "  </tbody>\n",
       "</table>\n",
       "</div>"
      ],
      "text/plain": [
       "        Date       Open       High        Low      Close  Adj Close   Volume  \\\n",
       "0 2013-01-02  74.529999  75.150002  74.500000  75.139999  63.542343  5037200   \n",
       "1 2013-01-03  75.120003  75.370003  74.839996  75.029999  63.449295  2634600   \n",
       "\n",
       "   Year  Month  Week  Day_Month  Weekday  Day_Year  Month_End Month_Start  \\\n",
       "0  2013      1     1         31        2         2 2013-01-31  2013-02-01   \n",
       "1  2013      1     1         31        3         3 2013-01-31  2013-02-01   \n",
       "\n",
       "  Quarter_end Quarter_Start   Year_end Year_Start  Predictions  \n",
       "0  2013-03-31    2013-03-01 2013-12-31 2014-01-01   102.901932  \n",
       "1  2013-03-31    2013-03-01 2013-12-31 2014-01-01   118.475029  "
      ]
     },
     "execution_count": 64,
     "metadata": {},
     "output_type": "execute_result"
    }
   ],
   "source": [
    "df.head(2)"
   ]
  },
  {
   "cell_type": "code",
   "execution_count": 62,
   "metadata": {},
   "outputs": [],
   "source": [
    "df['Week'] = df['Week'].astype(int)"
   ]
  },
  {
   "cell_type": "code",
   "execution_count": 63,
   "metadata": {},
   "outputs": [
    {
     "name": "stdout",
     "output_type": "stream",
     "text": [
      "<class 'pandas.core.frame.DataFrame'>\n",
      "RangeIndex: 1508 entries, 0 to 1507\n",
      "Data columns (total 20 columns):\n",
      " #   Column         Non-Null Count  Dtype         \n",
      "---  ------         --------------  -----         \n",
      " 0   Date           1508 non-null   datetime64[ns]\n",
      " 1   Open           1508 non-null   float64       \n",
      " 2   High           1508 non-null   float64       \n",
      " 3   Low            1508 non-null   float64       \n",
      " 4   Close          1508 non-null   float64       \n",
      " 5   Adj Close      1508 non-null   float64       \n",
      " 6   Volume         1508 non-null   int64         \n",
      " 7   Year           1508 non-null   int64         \n",
      " 8   Month          1508 non-null   int64         \n",
      " 9   Week           1508 non-null   int32         \n",
      " 10  Day_Month      1508 non-null   int64         \n",
      " 11  Weekday        1508 non-null   int64         \n",
      " 12  Day_Year       1508 non-null   int64         \n",
      " 13  Month_End      1508 non-null   datetime64[ns]\n",
      " 14  Month_Start    1508 non-null   datetime64[ns]\n",
      " 15  Quarter_end    1508 non-null   datetime64[ns]\n",
      " 16  Quarter_Start  1508 non-null   datetime64[ns]\n",
      " 17  Year_end       1508 non-null   datetime64[ns]\n",
      " 18  Year_Start     1508 non-null   datetime64[ns]\n",
      " 19  Predictions    302 non-null    float32       \n",
      "dtypes: datetime64[ns](7), float32(1), float64(5), int32(1), int64(6)\n",
      "memory usage: 224.0 KB\n"
     ]
    }
   ],
   "source": [
    "df.info()"
   ]
  },
  {
   "cell_type": "code",
   "execution_count": 67,
   "metadata": {},
   "outputs": [],
   "source": [
    "features = ['Open','High','Low','Close','Adj Close','Volume','Year','Month','Week','Day_Month','Weekday','Day_Year']\n",
    "features_time = ['Date','Month_End','Month_Start','Quarter_end','Quarter_Start','Year_end','Year_Start']\n",
    "\n",
    "X_PCA = df.loc[:,features].values\n",
    "Y_PCA = df.loc[:,'Close'].values\n",
    "\n",
    "X_PCA_Scaled = StandardScaler().fit_transform(X_PCA)"
   ]
  },
  {
   "cell_type": "code",
   "execution_count": 74,
   "metadata": {},
   "outputs": [
    {
     "data": {
      "text/html": [
       "<div>\n",
       "<style scoped>\n",
       "    .dataframe tbody tr th:only-of-type {\n",
       "        vertical-align: middle;\n",
       "    }\n",
       "\n",
       "    .dataframe tbody tr th {\n",
       "        vertical-align: top;\n",
       "    }\n",
       "\n",
       "    .dataframe thead th {\n",
       "        text-align: right;\n",
       "    }\n",
       "</style>\n",
       "<table border=\"1\" class=\"dataframe\">\n",
       "  <thead>\n",
       "    <tr style=\"text-align: right;\">\n",
       "      <th></th>\n",
       "      <th>Open</th>\n",
       "      <th>High</th>\n",
       "      <th>Low</th>\n",
       "      <th>Close</th>\n",
       "      <th>Adj Close</th>\n",
       "      <th>Volume</th>\n",
       "      <th>Year</th>\n",
       "      <th>Month</th>\n",
       "      <th>Week</th>\n",
       "      <th>Day_Month</th>\n",
       "      <th>Weekday</th>\n",
       "      <th>Day_Year</th>\n",
       "    </tr>\n",
       "  </thead>\n",
       "  <tbody>\n",
       "    <tr>\n",
       "      <th>0</th>\n",
       "      <td>-1.942627</td>\n",
       "      <td>-1.927076</td>\n",
       "      <td>-1.924092</td>\n",
       "      <td>-1.912262</td>\n",
       "      <td>-1.809415</td>\n",
       "      <td>1.470080</td>\n",
       "      <td>-1.461916</td>\n",
       "      <td>-1.619259</td>\n",
       "      <td>-1.719216</td>\n",
       "      <td>0.67482</td>\n",
       "      <td>-0.015163</td>\n",
       "      <td>-1.737830</td>\n",
       "    </tr>\n",
       "    <tr>\n",
       "      <th>1</th>\n",
       "      <td>-1.911176</td>\n",
       "      <td>-1.915388</td>\n",
       "      <td>-1.905877</td>\n",
       "      <td>-1.918135</td>\n",
       "      <td>-1.814069</td>\n",
       "      <td>-0.024039</td>\n",
       "      <td>-1.461916</td>\n",
       "      <td>-1.619259</td>\n",
       "      <td>-1.719216</td>\n",
       "      <td>0.67482</td>\n",
       "      <td>0.699408</td>\n",
       "      <td>-1.728252</td>\n",
       "    </tr>\n",
       "    <tr>\n",
       "      <th>2</th>\n",
       "      <td>-1.910110</td>\n",
       "      <td>-1.907420</td>\n",
       "      <td>-1.897841</td>\n",
       "      <td>-1.897847</td>\n",
       "      <td>-1.797998</td>\n",
       "      <td>-0.099721</td>\n",
       "      <td>-1.461916</td>\n",
       "      <td>-1.619259</td>\n",
       "      <td>-1.719216</td>\n",
       "      <td>0.67482</td>\n",
       "      <td>1.413979</td>\n",
       "      <td>-1.718673</td>\n",
       "    </tr>\n",
       "    <tr>\n",
       "      <th>3</th>\n",
       "      <td>-1.907978</td>\n",
       "      <td>-1.920170</td>\n",
       "      <td>-1.899984</td>\n",
       "      <td>-1.908525</td>\n",
       "      <td>-1.806456</td>\n",
       "      <td>-0.100779</td>\n",
       "      <td>-1.461916</td>\n",
       "      <td>-1.619259</td>\n",
       "      <td>-1.652187</td>\n",
       "      <td>0.67482</td>\n",
       "      <td>-1.444305</td>\n",
       "      <td>-1.689938</td>\n",
       "    </tr>\n",
       "    <tr>\n",
       "      <th>4</th>\n",
       "      <td>-1.911709</td>\n",
       "      <td>-1.925482</td>\n",
       "      <td>-1.913377</td>\n",
       "      <td>-1.919203</td>\n",
       "      <td>-1.814914</td>\n",
       "      <td>-0.786894</td>\n",
       "      <td>-1.461916</td>\n",
       "      <td>-1.619259</td>\n",
       "      <td>-1.652187</td>\n",
       "      <td>0.67482</td>\n",
       "      <td>-0.729734</td>\n",
       "      <td>-1.680360</td>\n",
       "    </tr>\n",
       "    <tr>\n",
       "      <th>...</th>\n",
       "      <td>...</td>\n",
       "      <td>...</td>\n",
       "      <td>...</td>\n",
       "      <td>...</td>\n",
       "      <td>...</td>\n",
       "      <td>...</td>\n",
       "      <td>...</td>\n",
       "      <td>...</td>\n",
       "      <td>...</td>\n",
       "      <td>...</td>\n",
       "      <td>...</td>\n",
       "      <td>...</td>\n",
       "    </tr>\n",
       "    <tr>\n",
       "      <th>1503</th>\n",
       "      <td>0.881530</td>\n",
       "      <td>0.900756</td>\n",
       "      <td>0.770617</td>\n",
       "      <td>0.812250</td>\n",
       "      <td>0.962224</td>\n",
       "      <td>6.496393</td>\n",
       "      <td>1.468913</td>\n",
       "      <td>1.598311</td>\n",
       "      <td>1.632273</td>\n",
       "      <td>0.67482</td>\n",
       "      <td>0.699408</td>\n",
       "      <td>1.633751</td>\n",
       "    </tr>\n",
       "    <tr>\n",
       "      <th>1504</th>\n",
       "      <td>0.828224</td>\n",
       "      <td>0.878974</td>\n",
       "      <td>0.680615</td>\n",
       "      <td>0.669164</td>\n",
       "      <td>0.835852</td>\n",
       "      <td>6.798189</td>\n",
       "      <td>1.468913</td>\n",
       "      <td>1.598311</td>\n",
       "      <td>1.632273</td>\n",
       "      <td>0.67482</td>\n",
       "      <td>1.413979</td>\n",
       "      <td>1.643329</td>\n",
       "    </tr>\n",
       "    <tr>\n",
       "      <th>1505</th>\n",
       "      <td>0.582483</td>\n",
       "      <td>0.590507</td>\n",
       "      <td>0.495789</td>\n",
       "      <td>0.466814</td>\n",
       "      <td>0.690287</td>\n",
       "      <td>7.347617</td>\n",
       "      <td>1.468913</td>\n",
       "      <td>1.598311</td>\n",
       "      <td>1.699303</td>\n",
       "      <td>0.67482</td>\n",
       "      <td>-1.444305</td>\n",
       "      <td>1.672064</td>\n",
       "    </tr>\n",
       "    <tr>\n",
       "      <th>1506</th>\n",
       "      <td>0.499325</td>\n",
       "      <td>0.748818</td>\n",
       "      <td>0.478645</td>\n",
       "      <td>0.774343</td>\n",
       "      <td>0.963488</td>\n",
       "      <td>6.118666</td>\n",
       "      <td>1.468913</td>\n",
       "      <td>1.598311</td>\n",
       "      <td>1.699303</td>\n",
       "      <td>0.67482</td>\n",
       "      <td>-0.015163</td>\n",
       "      <td>1.691221</td>\n",
       "    </tr>\n",
       "    <tr>\n",
       "      <th>1507</th>\n",
       "      <td>0.681632</td>\n",
       "      <td>0.805662</td>\n",
       "      <td>0.615792</td>\n",
       "      <td>0.834674</td>\n",
       "      <td>1.017085</td>\n",
       "      <td>8.367494</td>\n",
       "      <td>1.468913</td>\n",
       "      <td>1.598311</td>\n",
       "      <td>1.699303</td>\n",
       "      <td>0.67482</td>\n",
       "      <td>0.699408</td>\n",
       "      <td>1.700800</td>\n",
       "    </tr>\n",
       "  </tbody>\n",
       "</table>\n",
       "<p>1508 rows × 12 columns</p>\n",
       "</div>"
      ],
      "text/plain": [
       "          Open      High       Low     Close  Adj Close    Volume      Year  \\\n",
       "0    -1.942627 -1.927076 -1.924092 -1.912262  -1.809415  1.470080 -1.461916   \n",
       "1    -1.911176 -1.915388 -1.905877 -1.918135  -1.814069 -0.024039 -1.461916   \n",
       "2    -1.910110 -1.907420 -1.897841 -1.897847  -1.797998 -0.099721 -1.461916   \n",
       "3    -1.907978 -1.920170 -1.899984 -1.908525  -1.806456 -0.100779 -1.461916   \n",
       "4    -1.911709 -1.925482 -1.913377 -1.919203  -1.814914 -0.786894 -1.461916   \n",
       "...        ...       ...       ...       ...        ...       ...       ...   \n",
       "1503  0.881530  0.900756  0.770617  0.812250   0.962224  6.496393  1.468913   \n",
       "1504  0.828224  0.878974  0.680615  0.669164   0.835852  6.798189  1.468913   \n",
       "1505  0.582483  0.590507  0.495789  0.466814   0.690287  7.347617  1.468913   \n",
       "1506  0.499325  0.748818  0.478645  0.774343   0.963488  6.118666  1.468913   \n",
       "1507  0.681632  0.805662  0.615792  0.834674   1.017085  8.367494  1.468913   \n",
       "\n",
       "         Month      Week  Day_Month   Weekday  Day_Year  \n",
       "0    -1.619259 -1.719216    0.67482 -0.015163 -1.737830  \n",
       "1    -1.619259 -1.719216    0.67482  0.699408 -1.728252  \n",
       "2    -1.619259 -1.719216    0.67482  1.413979 -1.718673  \n",
       "3    -1.619259 -1.652187    0.67482 -1.444305 -1.689938  \n",
       "4    -1.619259 -1.652187    0.67482 -0.729734 -1.680360  \n",
       "...        ...       ...        ...       ...       ...  \n",
       "1503  1.598311  1.632273    0.67482  0.699408  1.633751  \n",
       "1504  1.598311  1.632273    0.67482  1.413979  1.643329  \n",
       "1505  1.598311  1.699303    0.67482 -1.444305  1.672064  \n",
       "1506  1.598311  1.699303    0.67482 -0.015163  1.691221  \n",
       "1507  1.598311  1.699303    0.67482  0.699408  1.700800  \n",
       "\n",
       "[1508 rows x 12 columns]"
      ]
     },
     "execution_count": 74,
     "metadata": {},
     "output_type": "execute_result"
    }
   ],
   "source": [
    "df_PCA = pd.DataFrame(X_PCA_Scaled, columns=features)\n",
    "df_PCA"
   ]
  },
  {
   "cell_type": "code",
   "execution_count": 76,
   "metadata": {},
   "outputs": [],
   "source": [
    "Col_name = ['PC 1', 'PC 2', 'PC 3', 'PC 4']\n",
    "PCA = PCA(n_components=4)\n",
    "principalComponents = PCA.fit_transform(X_PCA_Scaled)\n",
    "principal_df = pd.DataFrame(data=principalComponents, columns=Col_name)"
   ]
  },
  {
   "cell_type": "code",
   "execution_count": 91,
   "metadata": {},
   "outputs": [
    {
     "data": {
      "image/png": "[encoded data removed]",
      "text/plain": [
       "<Figure size 720x720 with 1 Axes>"
      ]
     },
     "metadata": {
      "needs_background": "light"
     },
     "output_type": "display_data"
    }
   ],
   "source": [
    "fig = plt.figure(figsize = (10,10))\n",
    "ax = fig.add_subplot(1,1,1) \n",
    "ax.set_xlabel('PC 1', fontsize = 15)\n",
    "ax.set_ylabel('PC 2', fontsize = 15)\n",
    "ax.set_title('2 component PCA', fontsize = 20)\n",
    "plt.xlim(-10,-5)\n",
    "plt.ylim(-10,-5)\n",
    "colors = ['r', 'g', 'b']\n",
    "for target, color in zip(targets,colors):\n",
    "    indicesToKeep = df['Close'] == target\n",
    "    ax.scatter(principal_df.loc[indicesToKeep, 'PC 1']\n",
    "               , principal_df.loc[indicesToKeep, 'PC 2']\n",
    "               , c = color\n",
    "               , s = 50)\n",
    "ax.grid()"
   ]
  },
  {
   "cell_type": "code",
   "execution_count": null,
   "metadata": {},
   "outputs": [],
   "source": []
  }
 ],
 "metadata": {
  "interpreter": {
   "hash": "451f9409e4a1d80d0e57066b36b4624c2c0f11dfc98b1c0bd8da4a3c0fa8d9f4"
  },
  "kernelspec": {
   "display_name": "Python 3.9.12 ('base')",
   "language": "python",
   "name": "python3"
  },
  "language_info": {
   "codemirror_mode": {
    "name": "ipython",
    "version": 3
   },
   "file_extension": ".py",
   "mimetype": "text/x-python",
   "name": "python",
   "nbconvert_exporter": "python",
   "pygments_lexer": "ipython3",
   "version": "3.9.12"
  },
  "orig_nbformat": 4
 },
 "nbformat": 4,
 "nbformat_minor": 2
}
